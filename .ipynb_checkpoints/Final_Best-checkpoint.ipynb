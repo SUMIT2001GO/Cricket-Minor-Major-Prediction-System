{
 "cells": [
  {
   "cell_type": "code",
   "execution_count": 1,
   "id": "08eefd11-2abe-4193-9a03-03d1f98aa25c",
   "metadata": {},
   "outputs": [],
   "source": [
    "import numpy as np\n",
    "import pandas as pd\n",
    "import matplotlib.pyplot as plt\n",
    "from sklearn.model_selection import train_test_split, GridSearchCV\n",
    "from sklearn.compose import ColumnTransformer\n",
    "from sklearn.preprocessing import OneHotEncoder\n",
    "from sklearn.ensemble import RandomForestClassifier\n",
    "from sklearn.metrics import accuracy_score, confusion_matrix, classification_report\n",
    "import seaborn as sns"
   ]
  },
  {
   "cell_type": "code",
   "execution_count": 2,
   "id": "a389f2b9-184a-432d-bfba-c645956aa8fe",
   "metadata": {},
   "outputs": [],
   "source": [
    "match = pd.read_csv('matches.csv')\n",
    "delivery = pd.read_csv('deliveries.csv')"
   ]
  },
  {
   "cell_type": "code",
   "execution_count": 3,
   "id": "0bd9d4ec-785d-4984-a9b1-055c8acb719f",
   "metadata": {},
   "outputs": [],
   "source": [
    "total_score_df = delivery.groupby(['match_id', 'inning']).sum()['total_runs'].reset_index()\n",
    "total_score_df = total_score_df[total_score_df['inning'] == 1]\n",
    "match_df = match.merge(total_score_df[['match_id', 'total_runs']], left_on='id', right_on='match_id')\n",
    "teams = [\n",
    "    'Sunrisers Hyderabad', 'Mumbai Indians', 'Royal Challengers Bangalore',\n",
    "    'Kolkata Knight Riders', 'Kings XI Punjab', 'Chennai Super Kings',\n",
    "    'Rajasthan Royals', 'Delhi Capitals'\n",
    "]\n",
    "match_df['team1'] = match_df['team1'].replace({'Delhi Daredevils': 'Delhi Capitals', 'Deccan Chargers': 'Sunrisers Hyderabad'})\n",
    "match_df['team2'] = match_df['team2'].replace({'Delhi Daredevils': 'Delhi Capitals', 'Deccan Chargers': 'Sunrisers Hyderabad'})\n",
    "match_df = match_df[(match_df['team1'].isin(teams)) & (match_df['team2'].isin(teams)) & (match_df['dl_applied'] == 0)]\n",
    "match_df = match_df[['match_id', 'city', 'winner', 'total_runs']]\n",
    "delivery_df = match_df.merge(delivery, on='match_id')\n",
    "delivery_df = delivery_df[delivery_df['inning'] == 2]"
   ]
  },
  {
   "cell_type": "code",
   "execution_count": 4,
   "id": "445d2075-acb7-454a-96be-57fe59077493",
   "metadata": {},
   "outputs": [],
   "source": [
    "delivery_df['current_score'] = delivery_df.groupby('match_id')['total_runs_y'].cumsum()\n",
    "delivery_df['runs_left'] = delivery_df['total_runs_x'] - delivery_df['current_score']\n",
    "delivery_df['balls_left'] = 120 - (delivery_df['over'] * 6 + delivery_df['ball'])\n",
    "delivery_df['player_dismissed'] = delivery_df['player_dismissed'].fillna(\"0\").apply(lambda x: 0 if x == \"0\" else 1).astype(int)\n",
    "delivery_df['cumulative_wickets'] = delivery_df.groupby('match_id')['player_dismissed'].cumsum()\n",
    "delivery_df['wickets'] = 10 - delivery_df['cumulative_wickets']\n",
    "delivery_df['crr'] = (delivery_df['current_score'] * 6) / (120 - delivery_df['balls_left'])\n",
    "delivery_df['rrr'] = (delivery_df['runs_left'] * 6) / delivery_df['balls_left']"
   ]
  },
  {
   "cell_type": "code",
   "execution_count": 5,
   "id": "429edee4-e956-4f2c-9735-a8c95aeafff6",
   "metadata": {},
   "outputs": [],
   "source": [
    "def result(row):\n",
    "    return 1 if row['batting_team'] == row['winner'] else 0\n",
    "delivery_df['result'] = delivery_df.apply(result, axis=1)"
   ]
  },
  {
   "cell_type": "code",
   "execution_count": 6,
   "id": "dfc09718-c74c-445f-9d2f-9431f24672ef",
   "metadata": {},
   "outputs": [],
   "source": [
    "final_df = delivery_df[['batting_team', 'bowling_team', 'city', 'runs_left', 'balls_left', 'wickets', 'total_runs_x', 'crr', 'rrr', 'result']]\n",
    "final_df = final_df.sample(final_df.shape[0]) \n",
    "final_df.dropna(inplace=True)\n",
    "final_df = final_df[final_df['balls_left'] != 0]"
   ]
  },
  {
   "cell_type": "code",
   "execution_count": 7,
   "id": "420575d6-fa42-4dd4-9201-ce2cc30b3e44",
   "metadata": {},
   "outputs": [],
   "source": [
    "X = final_df.drop('result', axis=1)\n",
    "y = final_df['result']\n",
    "X_train, X_test, y_train, y_test = train_test_split(X, y, test_size=0.2, random_state=1)"
   ]
  },
  {
   "cell_type": "code",
   "execution_count": 8,
   "id": "a88d1c37-7327-4f55-94d7-22285c61978e",
   "metadata": {},
   "outputs": [],
   "source": [
    "ohe = OneHotEncoder(sparse_output=False, drop='first')\n",
    "X_train_encoded = ohe.fit_transform(X_train[['batting_team', 'bowling_team', 'city']])\n",
    "X_test_encoded = ohe.transform(X_test[['batting_team', 'bowling_team', 'city']])"
   ]
  },
  {
   "cell_type": "code",
   "execution_count": 9,
   "id": "43e87330-fbdf-4144-9b7a-6485d87d8273",
   "metadata": {},
   "outputs": [],
   "source": [
    "X_train_final = np.concatenate([X_train_encoded, X_train[['runs_left', 'balls_left', 'wickets', 'total_runs_x', 'crr', 'rrr']].values], axis=1)\n",
    "X_test_final = np.concatenate([X_test_encoded, X_test[['runs_left', 'balls_left', 'wickets', 'total_runs_x', 'crr', 'rrr']].values], axis=1)"
   ]
  },
  {
   "cell_type": "code",
   "execution_count": 10,
   "id": "da5a2ad2-7fda-4cce-9e51-5f531dbd0e58",
   "metadata": {},
   "outputs": [
    {
     "name": "stdout",
     "output_type": "stream",
     "text": [
      "Fitting 3 folds for each of 36 candidates, totalling 108 fits\n"
     ]
    }
   ],
   "source": [
    "param_grid = {\n",
    "    'n_estimators': [100, 200],\n",
    "    'max_depth': [10, 15, 20],\n",
    "    'min_samples_split': [2, 5, 10],\n",
    "    'min_samples_leaf': [1, 2]\n",
    "}\n",
    "grid_search = GridSearchCV(RandomForestClassifier(random_state=1), param_grid, cv=3, scoring='accuracy', n_jobs=-1, verbose=1)\n",
    "grid_search.fit(X_train_final, y_train)\n",
    "best_model = grid_search.best_estimator_"
   ]
  },
  {
   "cell_type": "code",
   "execution_count": 11,
   "id": "43d9b81f-c901-42bb-8413-606485e266bc",
   "metadata": {},
   "outputs": [
    {
     "name": "stdout",
     "output_type": "stream",
     "text": [
      "Accuracy: 0.9967685282753775\n",
      "              precision    recall  f1-score   support\n",
      "\n",
      "           0       1.00      1.00      1.00      6761\n",
      "           1       1.00      1.00      1.00      7474\n",
      "\n",
      "    accuracy                           1.00     14235\n",
      "   macro avg       1.00      1.00      1.00     14235\n",
      "weighted avg       1.00      1.00      1.00     14235\n",
      "\n"
     ]
    }
   ],
   "source": [
    "y_pred = best_model.predict(X_test_final)\n",
    "accuracy = accuracy_score(y_test, y_pred)\n",
    "print(f\"Accuracy: {accuracy}\")\n",
    "print(classification_report(y_test, y_pred))"
   ]
  },
  {
   "cell_type": "code",
   "execution_count": 12,
   "id": "78276c7d-890d-4f78-9428-390ce6ea01f0",
   "metadata": {},
   "outputs": [
    {
     "data": {
      "image/png": "[encoded data removed]",
      "text/plain": [
       "<Figure size 800x600 with 2 Axes>"
      ]
     },
     "metadata": {},
     "output_type": "display_data"
    }
   ],
   "source": [
    "conf_matrix = confusion_matrix(y_test, y_pred)\n",
    "plt.figure(figsize=(8, 6))\n",
    "sns.heatmap(conf_matrix, annot=True, fmt='d', cmap='Blues', xticklabels=['Loss', 'Win'], yticklabels=['Loss', 'Win'])\n",
    "plt.xlabel(\"Predicted\")\n",
    "plt.ylabel(\"Actual\")\n",
    "plt.title(\"Confusion Matrix\")\n",
    "plt.show()"
   ]
  },
  {
   "cell_type": "code",
   "execution_count": 13,
   "id": "5dc8ab9b-1771-45f2-9f28-773214a3eb38",
   "metadata": {},
   "outputs": [],
   "source": [
    "import joblib"
   ]
  },
  {
   "cell_type": "code",
   "execution_count": 14,
   "id": "52158a0b-a250-4488-86ef-f267da8277cb",
   "metadata": {},
   "outputs": [
    {
     "data": {
      "text/plain": [
       "['best_rf_model.joblib']"
      ]
     },
     "execution_count": 14,
     "metadata": {},
     "output_type": "execute_result"
    }
   ],
   "source": [
    "joblib.dump(best_model, 'best_rf_model.joblib')"
   ]
  },
  {
   "cell_type": "code",
   "execution_count": 15,
   "id": "ffab8ed4-0d0c-4fe2-9bc2-1aac4cf171dc",
   "metadata": {},
   "outputs": [
    {
     "data": {
      "text/plain": [
       "['ohe.joblib']"
      ]
     },
     "execution_count": 15,
     "metadata": {},
     "output_type": "execute_result"
    }
   ],
   "source": [
    "joblib.dump(ohe, 'ohe.joblib')"
   ]
  },
  {
   "cell_type": "code",
   "execution_count": null,
   "id": "39dbdd79-157e-4cb5-892e-1222a05ab7cc",
   "metadata": {},
   "outputs": [],
   "source": []
  }
 ],
 "metadata": {
  "kernelspec": {
   "display_name": "Python 3 (ipykernel)",
   "language": "python",
   "name": "python3"
  },
  "language_info": {
   "codemirror_mode": {
    "name": "ipython",
    "version": 3
   },
   "file_extension": ".py",
   "mimetype": "text/x-python",
   "name": "python",
   "nbconvert_exporter": "python",
   "pygments_lexer": "ipython3",
   "version": "3.12.7"
  }
 },
 "nbformat": 4,
 "nbformat_minor": 5
}
